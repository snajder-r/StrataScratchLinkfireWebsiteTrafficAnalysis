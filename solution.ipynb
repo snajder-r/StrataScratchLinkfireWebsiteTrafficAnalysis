{
 "cells": [
  {
   "cell_type": "code",
   "execution_count": null,
   "outputs": [],
   "source": [
    "import pandas as pd\n",
    "import numpy as np"
   ],
   "metadata": {
    "collapsed": false
   }
  },
  {
   "cell_type": "code",
   "execution_count": 2,
   "outputs": [],
   "source": [
    "data = pd.read_csv(\"datasets/traffic.csv\")\n",
    "data[\"count\"] = 1"
   ],
   "metadata": {
    "collapsed": false
   }
  },
  {
   "cell_type": "markdown",
   "source": [
    "# [Pandas] How many total pageview events did the links in the provided dataset receive in the full period, how many per day?\n",
    "\n",
    "See below, as I answer these questions at the same time\n",
    "\n",
    "# [Pandas] What about the other recorded events?\n",
    "\n",
    "For the full period:"
   ],
   "metadata": {
    "collapsed": false
   }
  },
  {
   "cell_type": "code",
   "execution_count": 3,
   "outputs": [
    {
     "data": {
      "text/plain": "           count\nevent           \nclick      55732\npageview  142015\npreview    28531",
      "text/html": "<div>\n<style scoped>\n    .dataframe tbody tr th:only-of-type {\n        vertical-align: middle;\n    }\n\n    .dataframe tbody tr th {\n        vertical-align: top;\n    }\n\n    .dataframe thead th {\n        text-align: right;\n    }\n</style>\n<table border=\"1\" class=\"dataframe\">\n  <thead>\n    <tr style=\"text-align: right;\">\n      <th></th>\n      <th>count</th>\n    </tr>\n    <tr>\n      <th>event</th>\n      <th></th>\n    </tr>\n  </thead>\n  <tbody>\n    <tr>\n      <th>click</th>\n      <td>55732</td>\n    </tr>\n    <tr>\n      <th>pageview</th>\n      <td>142015</td>\n    </tr>\n    <tr>\n      <th>preview</th>\n      <td>28531</td>\n    </tr>\n  </tbody>\n</table>\n</div>"
     },
     "execution_count": 3,
     "metadata": {},
     "output_type": "execute_result"
    }
   ],
   "source": [
    "total_event_counts = data[[\"event\",\"count\"]].groupby(\"event\").count()\n",
    "total_event_counts"
   ],
   "metadata": {
    "collapsed": false
   }
  },
  {
   "cell_type": "markdown",
   "source": [
    "Per day:"
   ],
   "metadata": {
    "collapsed": false
   }
  },
  {
   "cell_type": "code",
   "execution_count": 4,
   "outputs": [
    {
     "data": {
      "text/plain": "                     count\nevent    date             \nclick    2021-08-19   9207\n         2021-08-20   8508\n         2021-08-21   8071\n         2021-08-22   7854\n         2021-08-23   7315\n         2021-08-24   7301\n         2021-08-25   7476\npageview 2021-08-19  22366\n         2021-08-20  21382\n         2021-08-21  21349\n         2021-08-22  20430\n         2021-08-23  18646\n         2021-08-24  18693\n         2021-08-25  19149\npreview  2021-08-19   3788\n         2021-08-20   4222\n         2021-08-21   4663\n         2021-08-22   4349\n         2021-08-23   3847\n         2021-08-24   3840\n         2021-08-25   3822",
      "text/html": "<div>\n<style scoped>\n    .dataframe tbody tr th:only-of-type {\n        vertical-align: middle;\n    }\n\n    .dataframe tbody tr th {\n        vertical-align: top;\n    }\n\n    .dataframe thead th {\n        text-align: right;\n    }\n</style>\n<table border=\"1\" class=\"dataframe\">\n  <thead>\n    <tr style=\"text-align: right;\">\n      <th></th>\n      <th></th>\n      <th>count</th>\n    </tr>\n    <tr>\n      <th>event</th>\n      <th>date</th>\n      <th></th>\n    </tr>\n  </thead>\n  <tbody>\n    <tr>\n      <th rowspan=\"7\" valign=\"top\">click</th>\n      <th>2021-08-19</th>\n      <td>9207</td>\n    </tr>\n    <tr>\n      <th>2021-08-20</th>\n      <td>8508</td>\n    </tr>\n    <tr>\n      <th>2021-08-21</th>\n      <td>8071</td>\n    </tr>\n    <tr>\n      <th>2021-08-22</th>\n      <td>7854</td>\n    </tr>\n    <tr>\n      <th>2021-08-23</th>\n      <td>7315</td>\n    </tr>\n    <tr>\n      <th>2021-08-24</th>\n      <td>7301</td>\n    </tr>\n    <tr>\n      <th>2021-08-25</th>\n      <td>7476</td>\n    </tr>\n    <tr>\n      <th rowspan=\"7\" valign=\"top\">pageview</th>\n      <th>2021-08-19</th>\n      <td>22366</td>\n    </tr>\n    <tr>\n      <th>2021-08-20</th>\n      <td>21382</td>\n    </tr>\n    <tr>\n      <th>2021-08-21</th>\n      <td>21349</td>\n    </tr>\n    <tr>\n      <th>2021-08-22</th>\n      <td>20430</td>\n    </tr>\n    <tr>\n      <th>2021-08-23</th>\n      <td>18646</td>\n    </tr>\n    <tr>\n      <th>2021-08-24</th>\n      <td>18693</td>\n    </tr>\n    <tr>\n      <th>2021-08-25</th>\n      <td>19149</td>\n    </tr>\n    <tr>\n      <th rowspan=\"7\" valign=\"top\">preview</th>\n      <th>2021-08-19</th>\n      <td>3788</td>\n    </tr>\n    <tr>\n      <th>2021-08-20</th>\n      <td>4222</td>\n    </tr>\n    <tr>\n      <th>2021-08-21</th>\n      <td>4663</td>\n    </tr>\n    <tr>\n      <th>2021-08-22</th>\n      <td>4349</td>\n    </tr>\n    <tr>\n      <th>2021-08-23</th>\n      <td>3847</td>\n    </tr>\n    <tr>\n      <th>2021-08-24</th>\n      <td>3840</td>\n    </tr>\n    <tr>\n      <th>2021-08-25</th>\n      <td>3822</td>\n    </tr>\n  </tbody>\n</table>\n</div>"
     },
     "execution_count": 4,
     "metadata": {},
     "output_type": "execute_result"
    }
   ],
   "source": [
    "data[[\"event\",\"date\", \"count\"]].groupby([\"event\", \"date\"]).count()"
   ],
   "metadata": {
    "collapsed": false
   }
  },
  {
   "cell_type": "markdown",
   "source": [
    "# [Pandas] Which countries did the pageviews come from?"
   ],
   "metadata": {
    "collapsed": false
   }
  },
  {
   "cell_type": "code",
   "execution_count": 5,
   "outputs": [
    {
     "data": {
      "text/plain": "                   count\ncountry                 \nAfghanistan            2\nAlbania              344\nAlgeria              443\nAmerican Samoa         3\nAndorra                2\n...                  ...\nWallis and Futuna      1\nYemen                 49\nZambia                68\nZimbabwe              18\nÅland                  4\n\n[211 rows x 1 columns]",
      "text/html": "<div>\n<style scoped>\n    .dataframe tbody tr th:only-of-type {\n        vertical-align: middle;\n    }\n\n    .dataframe tbody tr th {\n        vertical-align: top;\n    }\n\n    .dataframe thead th {\n        text-align: right;\n    }\n</style>\n<table border=\"1\" class=\"dataframe\">\n  <thead>\n    <tr style=\"text-align: right;\">\n      <th></th>\n      <th>count</th>\n    </tr>\n    <tr>\n      <th>country</th>\n      <th></th>\n    </tr>\n  </thead>\n  <tbody>\n    <tr>\n      <th>Afghanistan</th>\n      <td>2</td>\n    </tr>\n    <tr>\n      <th>Albania</th>\n      <td>344</td>\n    </tr>\n    <tr>\n      <th>Algeria</th>\n      <td>443</td>\n    </tr>\n    <tr>\n      <th>American Samoa</th>\n      <td>3</td>\n    </tr>\n    <tr>\n      <th>Andorra</th>\n      <td>2</td>\n    </tr>\n    <tr>\n      <th>...</th>\n      <td>...</td>\n    </tr>\n    <tr>\n      <th>Wallis and Futuna</th>\n      <td>1</td>\n    </tr>\n    <tr>\n      <th>Yemen</th>\n      <td>49</td>\n    </tr>\n    <tr>\n      <th>Zambia</th>\n      <td>68</td>\n    </tr>\n    <tr>\n      <th>Zimbabwe</th>\n      <td>18</td>\n    </tr>\n    <tr>\n      <th>Åland</th>\n      <td>4</td>\n    </tr>\n  </tbody>\n</table>\n<p>211 rows × 1 columns</p>\n</div>"
     },
     "execution_count": 5,
     "metadata": {},
     "output_type": "execute_result"
    }
   ],
   "source": [
    "data[[\"event\",\"country\", \"count\"]].groupby([\"event\", \"country\"]).count().loc[\"pageview\"]"
   ],
   "metadata": {
    "collapsed": false
   }
  },
  {
   "cell_type": "markdown",
   "source": [
    "# [Pandas] What was the overall click rate (clicks/pageviews)?"
   ],
   "metadata": {
    "collapsed": false
   }
  },
  {
   "cell_type": "code",
   "execution_count": 6,
   "outputs": [
    {
     "data": {
      "text/plain": "count    0.392437\ndtype: float64"
     },
     "execution_count": 6,
     "metadata": {},
     "output_type": "execute_result"
    }
   ],
   "source": [
    "total_event_counts.loc[\"click\"] / total_event_counts.loc[\"pageview\"]"
   ],
   "metadata": {
    "collapsed": false
   }
  },
  {
   "cell_type": "markdown",
   "source": [
    "# [Pandas] How does the clickrate distribute across different links?"
   ],
   "metadata": {
    "collapsed": false
   }
  },
  {
   "cell_type": "markdown",
   "source": [],
   "metadata": {
    "collapsed": false
   }
  },
  {
   "cell_type": "code",
   "execution_count": 7,
   "outputs": [],
   "source": [
    "count_per_link = data[[\"event\", \"linkid\", \"count\"]].groupby([\"event\", \"linkid\"]).count()\n",
    "clicks_per_link = count_per_link.loc[\"click\"]\n",
    "view_per_link = count_per_link.loc[\"pageview\"]"
   ],
   "metadata": {
    "collapsed": false
   }
  },
  {
   "cell_type": "code",
   "execution_count": 8,
   "outputs": [
    {
     "data": {
      "text/plain": "array([[<AxesSubplot: title={'center': 'count'}>]], dtype=object)"
     },
     "execution_count": 8,
     "metadata": {},
     "output_type": "execute_result"
    },
    {
     "data": {
      "text/plain": "<Figure size 640x480 with 1 Axes>",
      "image/png": "[encoded data removed]"
     },
     "metadata": {},
     "output_type": "display_data"
    }
   ],
   "source": [
    "click_rate_per_link = clicks_per_link.mul(1/view_per_link, fill_value=0)\n",
    "click_rate_per_link.hist(bins=100)"
   ],
   "metadata": {
    "collapsed": false
   }
  },
  {
   "cell_type": "code",
   "execution_count": 9,
   "outputs": [
    {
     "data": {
      "text/plain": "Text(0.5, 0, 'Log10(click_rate+1)')"
     },
     "execution_count": 9,
     "metadata": {},
     "output_type": "execute_result"
    },
    {
     "data": {
      "text/plain": "<Figure size 640x480 with 1 Axes>",
      "image/png": "[encoded data removed]"
     },
     "metadata": {},
     "output_type": "display_data"
    }
   ],
   "source": [
    "ax = np.log10(click_rate_per_link[\"count\"]+1).hist(bins=100)\n",
    "ax.set_xlabel(\"Log10(click_rate+1)\")"
   ],
   "metadata": {
    "collapsed": false
   }
  },
  {
   "cell_type": "code",
   "execution_count": 10,
   "outputs": [
    {
     "data": {
      "text/plain": "             count\ncount  3839.000000\nmean      0.475319\nstd       1.551988\nmin       0.000000\n25%       0.000000\n50%       0.387511\n75%       1.000000\nmax      92.300000",
      "text/html": "<div>\n<style scoped>\n    .dataframe tbody tr th:only-of-type {\n        vertical-align: middle;\n    }\n\n    .dataframe tbody tr th {\n        vertical-align: top;\n    }\n\n    .dataframe thead th {\n        text-align: right;\n    }\n</style>\n<table border=\"1\" class=\"dataframe\">\n  <thead>\n    <tr style=\"text-align: right;\">\n      <th></th>\n      <th>count</th>\n    </tr>\n  </thead>\n  <tbody>\n    <tr>\n      <th>count</th>\n      <td>3839.000000</td>\n    </tr>\n    <tr>\n      <th>mean</th>\n      <td>0.475319</td>\n    </tr>\n    <tr>\n      <th>std</th>\n      <td>1.551988</td>\n    </tr>\n    <tr>\n      <th>min</th>\n      <td>0.000000</td>\n    </tr>\n    <tr>\n      <th>25%</th>\n      <td>0.000000</td>\n    </tr>\n    <tr>\n      <th>50%</th>\n      <td>0.387511</td>\n    </tr>\n    <tr>\n      <th>75%</th>\n      <td>1.000000</td>\n    </tr>\n    <tr>\n      <th>max</th>\n      <td>92.300000</td>\n    </tr>\n  </tbody>\n</table>\n</div>"
     },
     "execution_count": 10,
     "metadata": {},
     "output_type": "execute_result"
    }
   ],
   "source": [
    "click_rate_per_link.describe()"
   ],
   "metadata": {
    "collapsed": false
   }
  },
  {
   "cell_type": "markdown",
   "source": [
    "# [Pandas & SciPy] Is there any correlation between clicks and previews on a link? Is it significant? How large is the effect? Make sure to at least test for potential linear as well as categorical (think binary) relationships between both variables."
   ],
   "metadata": {
    "collapsed": false
   }
  },
  {
   "cell_type": "code",
   "execution_count": 73,
   "outputs": [],
   "source": [
    "previews_and_clicks_per_link = count_per_link.loc[\"preview\"].rename({\"count\":\"preview\"}, axis=1)\n",
    "previews_and_clicks_per_link = previews_and_clicks_per_link.assign(clicks=clicks_per_link).fillna(0)"
   ],
   "metadata": {
    "collapsed": false
   }
  },
  {
   "cell_type": "code",
   "execution_count": 75,
   "outputs": [
    {
     "data": {
      "text/plain": "PearsonRResult(statistic=0.9934180956613332, pvalue=0.0)"
     },
     "execution_count": 75,
     "metadata": {},
     "output_type": "execute_result"
    }
   ],
   "source": [
    "import scipy\n",
    "scipy.stats.pearsonr(previews_and_clicks_per_link[\"preview\"], previews_and_clicks_per_link[\"clicks\"])"
   ],
   "metadata": {
    "collapsed": false
   }
  },
  {
   "cell_type": "code",
   "execution_count": 77,
   "outputs": [
    {
     "data": {
      "text/plain": "<matplotlib.collections.PathCollection at 0x1f2da1649a0>"
     },
     "execution_count": 77,
     "metadata": {},
     "output_type": "execute_result"
    },
    {
     "data": {
      "text/plain": "<Figure size 640x480 with 1 Axes>",
      "image/png": "[encoded data removed]"
     },
     "metadata": {},
     "output_type": "display_data"
    }
   ],
   "source": [
    "import matplotlib.pyplot as plt\n",
    "plt.scatter(previews_and_clicks_per_link[\"preview\"], previews_and_clicks_per_link[\"clicks\"])"
   ],
   "metadata": {
    "collapsed": false
   }
  },
  {
   "cell_type": "markdown",
   "source": [
    "#### Answer: Linear relationship appears to be given and significant with pearsonr R=0.99 and pvalue<0.05\n"
   ],
   "metadata": {
    "collapsed": false
   }
  },
  {
   "cell_type": "code",
   "execution_count": 113,
   "outputs": [],
   "source": [
    "previewed_links = set(data.loc[data[\"event\"]== \"preview\"][\"linkid\"])\n",
    "clicked_links = set(data.loc[data[\"event\"]== \"click\"][\"linkid\"])\n",
    "all_links = set(data[\"linkid\"])\n",
    "\n",
    "clicked_and_previewed = len(previewed_links.intersection(clicked_links))\n",
    "not_clicked_and_previewed = len(previewed_links.difference(clicked_links))\n",
    "clicked_and_not_previewed = len(clicked_links.difference(previewed_links))\n",
    "not_clicked_and_not_previewed = len(all_links.difference(previewed_links).difference(clicked_links))"
   ],
   "metadata": {
    "collapsed": false
   }
  },
  {
   "cell_type": "code",
   "execution_count": 115,
   "outputs": [
    {
     "data": {
      "text/plain": "SignificanceResult(statistic=12.9787287692945, pvalue=2.5947113303702397e-78)"
     },
     "execution_count": 115,
     "metadata": {},
     "output_type": "execute_result"
    }
   ],
   "source": [
    "incidence_matrix = [[not_clicked_and_not_previewed, not_clicked_and_previewed], [clicked_and_not_previewed, clicked_and_previewed]]\n",
    "scipy.stats.fisher_exact(incidence_matrix)"
   ],
   "metadata": {
    "collapsed": false
   }
  },
  {
   "cell_type": "markdown",
   "source": [
    "#### Answer: A binary relationship appears to also be given, with a fisher exact statistic of 12.98 and a p-value<0.05"
   ],
   "metadata": {
    "collapsed": false
   }
  }
 ],
 "metadata": {
  "kernelspec": {
   "display_name": "Python 3",
   "language": "python",
   "name": "python3"
  },
  "language_info": {
   "codemirror_mode": {
    "name": "ipython",
    "version": 2
   },
   "file_extension": ".py",
   "mimetype": "text/x-python",
   "name": "python",
   "nbconvert_exporter": "python",
   "pygments_lexer": "ipython2",
   "version": "2.7.6"
  }
 },
 "nbformat": 4,
 "nbformat_minor": 0
}
